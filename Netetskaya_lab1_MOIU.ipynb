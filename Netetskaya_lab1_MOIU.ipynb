{
 "cells": [
  {
   "cell_type": "code",
   "execution_count": 14,
   "metadata": {},
   "outputs": [
    {
     "name": "stdout",
     "output_type": "stream",
     "text": [
      "3 2\n",
      "1 0 5\n",
      "2 1 6\n",
      "3 4 0\n",
      "-24 20 -5\n",
      "18 -15 4\n",
      "5 -4 1\n",
      "2 2 2\n",
      "YES\n",
      "-0.8571428571428612 0.7142857142857153 0.14285714285714235\n",
      "1.2857142857142856 -1.0714285714285714 0.2857142857142857\n",
      "-0.14285714285714235 0.2857142857142856 -0.1428571428571428\n"
     ]
    }
   ],
   "source": [
    "import numpy as np\n",
    "\n",
    "\n",
    "def input_matrix(n):\n",
    "    matrix = []\n",
    "    for i in range(n):\n",
    "        matrix.append(list(map(float, input().split())))\n",
    "    return matrix\n",
    "\n",
    "\n",
    "def output_matrix(matrix):\n",
    "    for row in matrix:\n",
    "        print(' '.join([str(item) for item in row]))\n",
    "        \n",
    "        \n",
    "def calculations(n, i, A, B, vector_x):   \n",
    "    vector_l_col = B.dot(vector_x)\n",
    "    if vector_l_col[i - 1] == 0:\n",
    "        print('NO')\n",
    "        return\n",
    "    else:\n",
    "        print('YES')\n",
    "    vector_l = vector_l_col.copy()\n",
    "    vector_l[i - 1] = -1    \n",
    "    a = ((-1) / vector_l_col[i-1]) \n",
    "    vector_L = vector_l.dot(a)\n",
    "    matrix_eye = np.eye(n)\n",
    "    matrix_eye[:, i - 1] = vector_L\n",
    "    Q = matrix_eye.dot(B)\n",
    "    return output_matrix(Q)\n",
    "\n",
    "\n",
    "def main_task():\n",
    "    n, i = list(map(int, input().split()))\n",
    "    A = np.array(input_matrix(n))\n",
    "    B = np.array(input_matrix(n))\n",
    "    vector_x = np.array(list(map(float, input().split())))\n",
    "    calculations(n, i, A, B, vector_x)\n",
    "    \n",
    "\n",
    "main_task()"
   ]
  },
  {
   "cell_type": "code",
   "execution_count": null,
   "metadata": {},
   "outputs": [],
   "source": []
  }
 ],
 "metadata": {
  "kernelspec": {
   "display_name": "Python 3",
   "language": "python",
   "name": "python3"
  },
  "language_info": {
   "codemirror_mode": {
    "name": "ipython",
    "version": 3
   },
   "file_extension": ".py",
   "mimetype": "text/x-python",
   "name": "python",
   "nbconvert_exporter": "python",
   "pygments_lexer": "ipython3",
   "version": "3.8.3"
  }
 },
 "nbformat": 4,
 "nbformat_minor": 4
}
